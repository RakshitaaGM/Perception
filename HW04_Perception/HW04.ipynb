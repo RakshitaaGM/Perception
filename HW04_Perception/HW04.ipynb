{
 "cells": [
  {
   "cell_type": "code",
   "execution_count": 2,
   "metadata": {},
   "outputs": [
    {
     "name": "stdout",
     "output_type": "stream",
     "text": [
      "Requirement already satisfied: pandas in c:\\users\\mohan\\appdata\\local\\programs\\python\\python36\\lib\\site-packages (0.25.3)\n",
      "Requirement already satisfied: pytz>=2017.2 in c:\\users\\mohan\\appdata\\local\\programs\\python\\python36\\lib\\site-packages (from pandas) (2021.1)\n",
      "Requirement already satisfied: numpy>=1.13.3 in c:\\users\\mohan\\appdata\\local\\programs\\python\\python36\\lib\\site-packages (from pandas) (1.19.2)\n",
      "Requirement already satisfied: python-dateutil>=2.6.1 in c:\\users\\mohan\\appdata\\roaming\\python\\python36\\site-packages (from pandas) (2.8.1)\n",
      "Requirement already satisfied: six>=1.5 in c:\\users\\mohan\\appdata\\roaming\\python\\python36\\site-packages (from python-dateutil>=2.6.1->pandas) (1.15.0)\n"
     ]
    },
    {
     "ename": "ModuleNotFoundError",
     "evalue": "No module named 'pandas'",
     "output_type": "error",
     "traceback": [
      "\u001b[1;31m---------------------------------------------------------------------------\u001b[0m",
      "\u001b[1;31mModuleNotFoundError\u001b[0m                       Traceback (most recent call last)",
      "\u001b[1;32m<ipython-input-2-7d8ed8f7c87b>\u001b[0m in \u001b[0;36m<module>\u001b[1;34m\u001b[0m\n\u001b[0;32m      1\u001b[0m \u001b[0mget_ipython\u001b[0m\u001b[1;33m(\u001b[0m\u001b[1;33m)\u001b[0m\u001b[1;33m.\u001b[0m\u001b[0msystem\u001b[0m\u001b[1;33m(\u001b[0m\u001b[1;34m'pip3 install pandas'\u001b[0m\u001b[1;33m)\u001b[0m\u001b[1;33m\u001b[0m\u001b[1;33m\u001b[0m\u001b[0m\n\u001b[1;32m----> 2\u001b[1;33m \u001b[1;32mimport\u001b[0m \u001b[0mpandas\u001b[0m \u001b[1;32mas\u001b[0m \u001b[0mpd\u001b[0m\u001b[1;33m\u001b[0m\u001b[1;33m\u001b[0m\u001b[0m\n\u001b[0m\u001b[0;32m      3\u001b[0m \u001b[1;33m\u001b[0m\u001b[0m\n\u001b[0;32m      4\u001b[0m \u001b[1;33m\u001b[0m\u001b[0m\n",
      "\u001b[1;31mModuleNotFoundError\u001b[0m: No module named 'pandas'"
     ]
    }
   ],
   "source": []
  },
  {
   "cell_type": "code",
   "execution_count": 3,
   "metadata": {},
   "outputs": [
    {
     "name": "stdout",
     "output_type": "stream",
     "text": [
      "Requirement already satisfied: open3d in c:\\users\\mohan\\appdata\\local\\programs\\python\\python36\\lib\\site-packages (0.12.0)\n",
      "Requirement already satisfied: widgetsnbextension in c:\\users\\mohan\\appdata\\local\\programs\\python\\python36\\lib\\site-packages (from open3d) (3.5.1)\n",
      "Requirement already satisfied: matplotlib in c:\\users\\mohan\\appdata\\roaming\\python\\python36\\site-packages (from open3d) (3.3.2)\n",
      "Requirement already satisfied: numpy in c:\\users\\mohan\\appdata\\local\\programs\\python\\python36\\lib\\site-packages (from open3d) (1.19.2)\n",
      "Requirement already satisfied: ipywidgets in c:\\users\\mohan\\appdata\\local\\programs\\python\\python36\\lib\\site-packages (from open3d) (7.6.3)\n",
      "Requirement already satisfied: notebook in c:\\users\\mohan\\appdata\\local\\programs\\python\\python36\\lib\\site-packages (from open3d) (6.2.0)\n",
      "Requirement already satisfied: ipython>=4.0.0 in c:\\users\\mohan\\appdata\\local\\programs\\python\\python36\\lib\\site-packages (from ipywidgets->open3d) (7.16.1)\n",
      "Requirement already satisfied: traitlets>=4.3.1 in c:\\users\\mohan\\appdata\\local\\programs\\python\\python36\\lib\\site-packages (from ipywidgets->open3d) (4.3.3)\n",
      "Requirement already satisfied: jupyterlab-widgets>=1.0.0 in c:\\users\\mohan\\appdata\\local\\programs\\python\\python36\\lib\\site-packages (from ipywidgets->open3d) (1.0.0)\n",
      "Requirement already satisfied: ipykernel>=4.5.1 in c:\\users\\mohan\\appdata\\local\\programs\\python\\python36\\lib\\site-packages (from ipywidgets->open3d) (5.5.0)\n",
      "Requirement already satisfied: nbformat>=4.2.0 in c:\\users\\mohan\\appdata\\local\\programs\\python\\python36\\lib\\site-packages (from ipywidgets->open3d) (5.1.2)\n",
      "Requirement already satisfied: tornado>=4.2 in c:\\users\\mohan\\appdata\\local\\programs\\python\\python36\\lib\\site-packages (from ipykernel>=4.5.1->ipywidgets->open3d) (6.1)\n",
      "Requirement already satisfied: jupyter-client in c:\\users\\mohan\\appdata\\local\\programs\\python\\python36\\lib\\site-packages (from ipykernel>=4.5.1->ipywidgets->open3d) (6.1.12)\n",
      "Requirement already satisfied: decorator in c:\\users\\mohan\\appdata\\local\\programs\\python\\python36\\lib\\site-packages (from ipython>=4.0.0->ipywidgets->open3d) (4.4.2)\n",
      "Requirement already satisfied: setuptools>=18.5 in c:\\users\\mohan\\appdata\\local\\programs\\python\\python36\\lib\\site-packages (from ipython>=4.0.0->ipywidgets->open3d) (54.1.2)\n",
      "Requirement already satisfied: jedi>=0.10 in c:\\users\\mohan\\appdata\\local\\programs\\python\\python36\\lib\\site-packages (from ipython>=4.0.0->ipywidgets->open3d) (0.18.0)\n",
      "Requirement already satisfied: pygments in c:\\users\\mohan\\appdata\\local\\programs\\python\\python36\\lib\\site-packages (from ipython>=4.0.0->ipywidgets->open3d) (2.8.1)\n",
      "Requirement already satisfied: pickleshare in c:\\users\\mohan\\appdata\\local\\programs\\python\\python36\\lib\\site-packages (from ipython>=4.0.0->ipywidgets->open3d) (0.7.5)\n",
      "Requirement already satisfied: colorama in c:\\users\\mohan\\appdata\\local\\programs\\python\\python36\\lib\\site-packages (from ipython>=4.0.0->ipywidgets->open3d) (0.4.4)\n",
      "Requirement already satisfied: prompt-toolkit!=3.0.0,!=3.0.1,<3.1.0,>=2.0.0 in c:\\users\\mohan\\appdata\\local\\programs\\python\\python36\\lib\\site-packages (from ipython>=4.0.0->ipywidgets->open3d) (3.0.3)\n",
      "Requirement already satisfied: backcall in c:\\users\\mohan\\appdata\\local\\programs\\python\\python36\\lib\\site-packages (from ipython>=4.0.0->ipywidgets->open3d) (0.2.0)\n",
      "Requirement already satisfied: parso<0.9.0,>=0.8.0 in c:\\users\\mohan\\appdata\\local\\programs\\python\\python36\\lib\\site-packages (from jedi>=0.10->ipython>=4.0.0->ipywidgets->open3d) (0.8.1)\n",
      "Requirement already satisfied: jsonschema!=2.5.0,>=2.4 in c:\\users\\mohan\\appdata\\local\\programs\\python\\python36\\lib\\site-packages (from nbformat>=4.2.0->ipywidgets->open3d) (3.2.0)\n",
      "Requirement already satisfied: jupyter-core in c:\\users\\mohan\\appdata\\local\\programs\\python\\python36\\lib\\site-packages (from nbformat>=4.2.0->ipywidgets->open3d) (4.7.1)\n",
      "Requirement already satisfied: ipython-genutils in c:\\users\\mohan\\appdata\\local\\programs\\python\\python36\\lib\\site-packages (from nbformat>=4.2.0->ipywidgets->open3d) (0.2.0)\n",
      "Requirement already satisfied: attrs>=17.4.0 in c:\\users\\mohan\\appdata\\local\\programs\\python\\python36\\lib\\site-packages (from jsonschema!=2.5.0,>=2.4->nbformat>=4.2.0->ipywidgets->open3d) (20.3.0)\n",
      "Requirement already satisfied: six>=1.11.0 in c:\\users\\mohan\\appdata\\roaming\\python\\python36\\site-packages (from jsonschema!=2.5.0,>=2.4->nbformat>=4.2.0->ipywidgets->open3d) (1.15.0)\n",
      "Requirement already satisfied: pyrsistent>=0.14.0 in c:\\users\\mohan\\appdata\\local\\programs\\python\\python36\\lib\\site-packages (from jsonschema!=2.5.0,>=2.4->nbformat>=4.2.0->ipywidgets->open3d) (0.17.3)\n",
      "Requirement already satisfied: importlib-metadata in c:\\users\\mohan\\appdata\\local\\programs\\python\\python36\\lib\\site-packages (from jsonschema!=2.5.0,>=2.4->nbformat>=4.2.0->ipywidgets->open3d) (3.7.3)\n",
      "Requirement already satisfied: wcwidth in c:\\users\\mohan\\appdata\\local\\programs\\python\\python36\\lib\\site-packages (from prompt-toolkit!=3.0.0,!=3.0.1,<3.1.0,>=2.0.0->ipython>=4.0.0->ipywidgets->open3d) (0.2.5)\n",
      "Requirement already satisfied: terminado>=0.8.3 in c:\\users\\mohan\\appdata\\local\\programs\\python\\python36\\lib\\site-packages (from notebook->open3d) (0.9.3)\n",
      "Requirement already satisfied: prometheus-client in c:\\users\\mohan\\appdata\\local\\programs\\python\\python36\\lib\\site-packages (from notebook->open3d) (0.9.0)\n",
      "Requirement already satisfied: argon2-cffi in c:\\users\\mohan\\appdata\\local\\programs\\python\\python36\\lib\\site-packages (from notebook->open3d) (20.1.0)\n",
      "Requirement already satisfied: nbconvert in c:\\users\\mohan\\appdata\\local\\programs\\python\\python36\\lib\\site-packages (from notebook->open3d) (6.0.7)\n",
      "Requirement already satisfied: jinja2 in c:\\users\\mohan\\appdata\\local\\programs\\python\\python36\\lib\\site-packages (from notebook->open3d) (2.11.3)\n",
      "Requirement already satisfied: pyzmq>=17 in c:\\users\\mohan\\appdata\\local\\programs\\python\\python36\\lib\\site-packages (from notebook->open3d) (22.0.3)\n",
      "Requirement already satisfied: Send2Trash>=1.5.0 in c:\\users\\mohan\\appdata\\local\\programs\\python\\python36\\lib\\site-packages (from notebook->open3d) (1.5.0)\n",
      "Requirement already satisfied: python-dateutil>=2.1 in c:\\users\\mohan\\appdata\\roaming\\python\\python36\\site-packages (from jupyter-client->ipykernel>=4.5.1->ipywidgets->open3d) (2.8.1)\n",
      "Requirement already satisfied: pywin32>=1.0 in c:\\users\\mohan\\appdata\\local\\programs\\python\\python36\\lib\\site-packages (from jupyter-core->nbformat>=4.2.0->ipywidgets->open3d) (300)\n",
      "Requirement already satisfied: pywinpty>=0.5 in c:\\users\\mohan\\appdata\\local\\programs\\python\\python36\\lib\\site-packages (from terminado>=0.8.3->notebook->open3d) (0.5.7)\n",
      "Requirement already satisfied: cffi>=1.0.0 in c:\\users\\mohan\\appdata\\local\\programs\\python\\python36\\lib\\site-packages (from argon2-cffi->notebook->open3d) (1.14.5)\n",
      "Requirement already satisfied: pycparser in c:\\users\\mohan\\appdata\\local\\programs\\python\\python36\\lib\\site-packages (from cffi>=1.0.0->argon2-cffi->notebook->open3d) (2.20)\n",
      "Requirement already satisfied: typing-extensions>=3.6.4 in c:\\users\\mohan\\appdata\\local\\programs\\python\\python36\\lib\\site-packages (from importlib-metadata->jsonschema!=2.5.0,>=2.4->nbformat>=4.2.0->ipywidgets->open3d) (3.7.4.3)\n",
      "Requirement already satisfied: zipp>=0.5 in c:\\users\\mohan\\appdata\\local\\programs\\python\\python36\\lib\\site-packages (from importlib-metadata->jsonschema!=2.5.0,>=2.4->nbformat>=4.2.0->ipywidgets->open3d) (3.4.1)\n",
      "Requirement already satisfied: MarkupSafe>=0.23 in c:\\users\\mohan\\appdata\\local\\programs\\python\\python36\\lib\\site-packages (from jinja2->notebook->open3d) (1.1.1)\n",
      "Requirement already satisfied: kiwisolver>=1.0.1 in c:\\users\\mohan\\appdata\\roaming\\python\\python36\\site-packages (from matplotlib->open3d) (1.2.0)\n",
      "Requirement already satisfied: certifi>=2020.06.20 in c:\\users\\mohan\\appdata\\roaming\\python\\python36\\site-packages (from matplotlib->open3d) (2020.6.20)\n",
      "Requirement already satisfied: pillow>=6.2.0 in c:\\users\\mohan\\appdata\\local\\programs\\python\\python36\\lib\\site-packages (from matplotlib->open3d) (7.2.0)\n",
      "Requirement already satisfied: cycler>=0.10 in c:\\users\\mohan\\appdata\\roaming\\python\\python36\\site-packages (from matplotlib->open3d) (0.10.0)\n",
      "Requirement already satisfied: pyparsing!=2.0.4,!=2.1.2,!=2.1.6,>=2.0.3 in c:\\users\\mohan\\appdata\\roaming\\python\\python36\\site-packages (from matplotlib->open3d) (2.4.7)\n",
      "Requirement already satisfied: pandocfilters>=1.4.1 in c:\\users\\mohan\\appdata\\local\\programs\\python\\python36\\lib\\site-packages (from nbconvert->notebook->open3d) (1.4.3)\n",
      "Requirement already satisfied: nbclient<0.6.0,>=0.5.0 in c:\\users\\mohan\\appdata\\local\\programs\\python\\python36\\lib\\site-packages (from nbconvert->notebook->open3d) (0.5.1)\n",
      "Requirement already satisfied: jupyterlab-pygments in c:\\users\\mohan\\appdata\\local\\programs\\python\\python36\\lib\\site-packages (from nbconvert->notebook->open3d) (0.1.2)\n",
      "Requirement already satisfied: bleach in c:\\users\\mohan\\appdata\\local\\programs\\python\\python36\\lib\\site-packages (from nbconvert->notebook->open3d) (3.3.0)\n",
      "Requirement already satisfied: defusedxml in c:\\users\\mohan\\appdata\\local\\programs\\python\\python36\\lib\\site-packages (from nbconvert->notebook->open3d) (0.7.1)\n",
      "Requirement already satisfied: entrypoints>=0.2.2 in c:\\users\\mohan\\appdata\\local\\programs\\python\\python36\\lib\\site-packages (from nbconvert->notebook->open3d) (0.3)\n",
      "Requirement already satisfied: testpath in c:\\users\\mohan\\appdata\\local\\programs\\python\\python36\\lib\\site-packages (from nbconvert->notebook->open3d) (0.4.4)\n",
      "Requirement already satisfied: mistune<2,>=0.8.1 in c:\\users\\mohan\\appdata\\local\\programs\\python\\python36\\lib\\site-packages (from nbconvert->notebook->open3d) (0.8.4)\n",
      "Requirement already satisfied: nest-asyncio in c:\\users\\mohan\\appdata\\local\\programs\\python\\python36\\lib\\site-packages (from nbclient<0.6.0,>=0.5.0->nbconvert->notebook->open3d) (1.5.1)\n",
      "Requirement already satisfied: async-generator in c:\\users\\mohan\\appdata\\local\\programs\\python\\python36\\lib\\site-packages (from nbclient<0.6.0,>=0.5.0->nbconvert->notebook->open3d) (1.10)\n",
      "Requirement already satisfied: packaging in c:\\users\\mohan\\appdata\\local\\programs\\python\\python36\\lib\\site-packages (from bleach->nbconvert->notebook->open3d) (20.9)\n",
      "Requirement already satisfied: webencodings in c:\\users\\mohan\\appdata\\local\\programs\\python\\python36\\lib\\site-packages (from bleach->nbconvert->notebook->open3d) (0.5.1)\n"
     ]
    }
   ],
   "source": [
    "!pip3 install open3d"
   ]
  },
  {
   "cell_type": "code",
   "execution_count": 4,
   "metadata": {},
   "outputs": [
    {
     "ename": "ModuleNotFoundError",
     "evalue": "No module named 'open3d'",
     "output_type": "error",
     "traceback": [
      "\u001b[1;31m---------------------------------------------------------------------------\u001b[0m",
      "\u001b[1;31mModuleNotFoundError\u001b[0m                       Traceback (most recent call last)",
      "\u001b[1;32m<ipython-input-4-61d8d714d9ed>\u001b[0m in \u001b[0;36m<module>\u001b[1;34m\u001b[0m\n\u001b[0;32m      1\u001b[0m \u001b[1;32mimport\u001b[0m \u001b[0mnumpy\u001b[0m \u001b[1;32mas\u001b[0m \u001b[0mnp\u001b[0m\u001b[1;33m\u001b[0m\u001b[1;33m\u001b[0m\u001b[0m\n\u001b[1;32m----> 2\u001b[1;33m \u001b[1;32mimport\u001b[0m \u001b[0mopen3d\u001b[0m \u001b[1;32mas\u001b[0m \u001b[0mo3d\u001b[0m\u001b[1;33m\u001b[0m\u001b[1;33m\u001b[0m\u001b[0m\n\u001b[0m",
      "\u001b[1;31mModuleNotFoundError\u001b[0m: No module named 'open3d'"
     ]
    }
   ],
   "source": [
    "import numpy as np\n",
    "import open3d as o3d\n"
   ]
  },
  {
   "cell_type": "code",
   "execution_count": null,
   "metadata": {},
   "outputs": [],
   "source": [
    "lidar_bin_name = '/Desktop/Auto19/Semester 4/Perception/HW04/annotationilidar_obstacle_label-data-apollo-1.0/bin_files/002_00000000.bin'\n",
    "scan = np.fromfile(pcd_name, dtype=np.float32)\n",
    "scan"
   ]
  }
 ],
 "metadata": {
  "kernelspec": {
   "display_name": "Python 3",
   "language": "python",
   "name": "python3"
  },
  "language_info": {
   "codemirror_mode": {
    "name": "ipython",
    "version": 3
   },
   "file_extension": ".py",
   "mimetype": "text/x-python",
   "name": "python",
   "nbconvert_exporter": "python",
   "pygments_lexer": "ipython3",
   "version": "3.7.4"
  }
 },
 "nbformat": 4,
 "nbformat_minor": 4
}
